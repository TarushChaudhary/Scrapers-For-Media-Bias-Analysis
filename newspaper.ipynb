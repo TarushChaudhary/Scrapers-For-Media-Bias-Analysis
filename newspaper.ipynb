{
 "cells": [
  {
   "cell_type": "code",
   "execution_count": 1,
   "metadata": {},
   "outputs": [
    {
     "name": "stdout",
     "output_type": "stream",
     "text": [
      "Stock market today: Sensex, Nifty slump over 2% as Middle East conflict deepens\n",
      "Equity benchmark indices Sensex and Nifty tanked over 2% on Thursday (October 3, 2024), dragged by a decline in heavyweight stocks Reliance Industries, HDFC Bank and spiralling conflict in the Middle East.\n",
      "\n",
      "Falling for the fourth day running, the BSE Sensex tumbled 1,769.19 points or 2.1% to settle at 82,497.10. During the day, it plummeted 1,832.27 points or 2.17% to 82,434.02.\n",
      "\n",
      "The NSE Nifty slumped 546.80 points or 2.12% to 25,250.10.\n",
      "\n",
      "Continuous foreign fund outflows and rising crude oil prices dented investors' sentiment, analysts said.\n",
      "\n",
      "From the 30 Sensex firms, Larsen & Toubro, Reliance Industries, Axis Bank, Asian Paints, Tata Motors, Bajaj Finance, Maruti, Bajaj Finserv, Kotak Mahindra Bank, Titan, Adani Ports and HDFC Bank were the major laggards.\n",
      "\n",
      "JSW Steel emerged as the only gainer.\n",
      "\n",
      "\"The domestic market took a sharp downturn following Iran’s launch of ballistic missiles at Israel, sparking fears of retaliation and escalation in war,” Vinod Nair, Head of Research, Geojit Financial Services said.\n",
      "\n",
      "“New SEBI regulations for the F&O segment have raised concerns about reduced trading volumes in the broader market. Lastly, with attractive valuations in China, FIIs have redirected their funds, adding pressure on Indian stocks,\" Mr. Nair added.\n",
      "\n",
      "In Asian markets, Hong Kong settled lower while Tokyo ended in the positive territory. Markets in mainland China will be closed for the rest of the week due to holiday.\n",
      "\n",
      "European markets were trading mostly lower. The U.S. markets ended marginally higher on Wednesday.\n",
      "\n",
      "Foreign Institutional Investors (FIIs) offloaded equities worth ₹5,579.35 crore on Tuesday, according to exchange data.\n",
      "\n",
      "Global oil benchmark Brent crude climbed 1.37% to USD 74.91 a barrel.\n",
      "\n",
      "Equity markets were closed on Wednesday for Mahatma Gandhi Jayanti.\n",
      "\n",
      "The BSE benchmark dipped 33.49 points or 0.04% to settle at 84,266.29 on Tuesday. The Nifty ended marginally lower by 13.95 points or 0.05% to 25,796.90.\n"
     ]
    }
   ],
   "source": [
    "from newspaper import Article\n",
    "\n",
    "url = \"https://www.thehindu.com/business/markets/sensex-nifty-slump-over-2-as-middle-east-conflict-deepens/article68713225.ece\"\n",
    "article = Article(url)\n",
    "article.download()\n",
    "article.parse()\n",
    "\n",
    "print(article.title)\n",
    "print(article.text)\n"
   ]
  },
  {
   "cell_type": "code",
   "execution_count": null,
   "metadata": {},
   "outputs": [],
   "source": [
    "import pandas as pd\n",
    "\n",
    "df = pd.read_csv(\"MediaData.csv\")\n",
    "outlets = [\"thehindu.com\", \"financialexpress.com\", \"ndtv.com\", \"opindia.com\",\"hindustantimes.com\",\"economictimes.indiatimes.com\"]\n",
    "\n",
    "for outlet in outlets:\n",
    "    print(df[df.iloc[:,2].str.contains(outlet)].count())\n"
   ]
  },
  {
   "cell_type": "code",
   "execution_count": 24,
   "metadata": {},
   "outputs": [
    {
     "name": "stdout",
     "output_type": "stream",
     "text": [
      "2      \\n\\n\\n\\n(You can now subscribe to our\\n\\n(You ...\n",
      "30     \\n\\n\\n\\n(You can now subscribe to our\\n\\n(You ...\n",
      "31     \\n\\n\\n\\n(You can now subscribe to our\\n\\n(You ...\n",
      "35     \\n\\n\\n\\n(You can now subscribe to our\\n\\n(You ...\n",
      "46     \\n\\n\\n\\n(You can now subscribe to our\\n\\n(You ...\n",
      "                             ...                        \n",
      "439    Until 1999, the Union Budget was presented at ...\n",
      "441    \\n\\n\\n\\n(You can now subscribe to our\\n\\n(You ...\n",
      "442    \\n\\n\\n\\n(You can now subscribe to our\\n\\n(You ...\n",
      "443    When will FM Nirmala Sitharaman present the Bu...\n",
      "444    When will FM Nirmala Sitharaman present the Bu...\n",
      "Name: Text, Length: 95, dtype: object\n"
     ]
    }
   ],
   "source": [
    "df = pd.read_csv(\"processed_media_data_economictimes.csv\")\n",
    "junk = \"\\\\n\\\\n\\\\n\\\\n\\\\(You can now subscribe to our\\\\n\\\\n\\\\(You can now subscribe to our Economic Times WhatsApp channel\"\n",
    "print(df[df.iloc[:, 2].notnull() & df.iloc[:, 2].str.contains(junk)].iloc[:, 2])\n",
    "\n"
   ]
  },
  {
   "cell_type": "code",
   "execution_count": 38,
   "metadata": {},
   "outputs": [
    {
     "name": "stdout",
     "output_type": "stream",
     "text": [
      "Mumbai’s resale real estate market is expected to feel the pinch with Budget 2024 doing away with the indexation benefits on long-term capital gains (LTCG) on sale of property. Mumbai’s resale real estate market is expected to feel the pinch with Budget 2024-2025 doing away with the indexation benefit on long-term capital gains (LTCG) on sale of property. (Picture for representational purposes)(Mehul R Thakkar/HT)\n",
      "\n",
      "According to experts, the Mumbai real estate market is primarily led by buyers who sell small units to upgrade to larger homes. This coupled with the performance of the stock market and the upcoming assembly elections in the state may lead to property transactions cooling off in Mumbai.\n",
      "\n",
      "Union Budget 2024-2025 proposals\n",
      "\n",
      "Union Finance Minister Nirmala Sitharaman on July 24 had proposed to do away with the indexation benefit on sale of property, that allowed home owners the benefit of adjusting their gains against inflation. This, say real estate experts, may lead to higher tax burden on real estate transactions and severely impact property sellers.\n",
      "\n",
      "The long-term capital gains (LTCG) has been reduced from 20% with indexation benefit to 12.5% without indexation for the real estate sector.\n",
      "\n",
      "What is indexation?\n",
      "\n",
      "Indexation allows one to adjust the purchase price of an asset for inflation, reducing taxable profits and tax liabilities. Without this adjustment, individuals paying tax may have to pay increased taxes despite the lower LTCG rate.\n",
      "\n",
      "Also Read: Budget 2024: Removal of indexation benefit may lead to higher tax burden on real estate sales, say experts\n",
      "\n",
      "What does this mean for the Mumbai real estate market?\n",
      "\n",
      "According to real estate experts, removal of indexation will slow down sales in the secondary market, also known as resale market in metro cities, including the Mumbai real estate market.\n",
      "\n",
      "\"The overall real estate market in Mumbai and other metro cities might be affected wherein resale transactions may slow down in the secondary market, not only in Mumbai but also in other metro cities. The mid-segment market, specifically in the range of ₹2 to ₹5 crore might be impacted and even investors might put their decision to sell on hold. Investors will now wait and watch before exiting from the property market now. Having said this, it depends on individual investment goals,” said Ritesh Mehta, Senior Director, and Head (North and West), residential services and developer initiative, JLL India, a real estate consultancy firm.\n",
      "\n",
      "\"However, it also depends on how the Indian stock market performs in the coming months. Real estate transactions are also connected with the performance of the Indian stock market,\" he added.\n",
      "\n",
      "Another expert not wishing to be named said, \"The mid-segment and luxury segment of Mumbai real estate market is already overheated and is likely to cool off in the coming months. While we cannot say that there will be a drastic downfall, the market will reflect these changes.\"\n",
      "\n",
      "\"The state of Maharashtra is expected to go for polls in the next two to three months and hence there will not be too many transactions by investors. Investors, including developers, are in a wait-and-watch mode and therefore we may see some stagnancy. While we do not see any slowdown and properties are getting registered, we have to understand that these deals were finalized in the last 90 days. Typically, the real impact of removal of the indexation benefit may be felt over the next six to nine months.\"\n",
      "\n",
      "On an average, the Mumbai real estate market has reported over 10,000 property registrations on a monthly basis of which 80% of the property registrations are in the residential segment. Experts opine that out of these 80%, a significant portion of homebuying happens on account of buyers upgrading their homes, especially post Covid-19.\n",
      "\n",
      "Also Read: Budget 2024: Planning to sell a property bought after 2001? Here are 7 things that you should know\n",
      "\n",
      "Higher taxation may lead to short term disruption in the secondary real estate market\n",
      "\n",
      "Vivek Rathi, National Director, Research, Knight Frank India, a real estate consultancy firm said, \"There could be a short term impact where the market adjusts itself to the new reality. Eventually market conditions are expected to normalize. There might be a short-term adjustment period as the market adapts to the new conditions. However, market conditions are expected to stabilize over time.\"\n",
      "\n",
      "Rathi added that if the property's value has risen more than the inflation rate, the new 12.5% tax rate is likely to be more favorable for real estate sellers compared to the previous 20% rate after adjusting for indexation.\n",
      "\n",
      "Also Read: Election 2024 result impact: Maharashtra's real estate market may go into a wait and watch mode ahead of assembly polls\n",
      "\n",
      "What does removal of indexation benefit mean for plotted developments?\n",
      "\n",
      "Investments in plotted developments picked up post Covid-19. However, real estate developers are of the opinion that the impact of changes in LTCG on plotted developments or other real estate segments is similar.\n",
      "\n",
      "\"The House of Abhinandan Lodha (HoABL) has been offering plotted developments for the past three years, and our advice to our customers has been to buy land if you plan to hold it for more than 10 years. However, if investors seek an early exit to meet any contingencies, the reduced LTCG rate from 20% to 12.5%, along with the shortened holding period from three years to two years, makes exit more attractive. While we still recommend long-term holdings, these changes offer greater flexibility for investors,\" said Abhinandan Lodha, chairman, HoABL.\n",
      "\n",
      "On the impact of removal of indexation benefit on vertical developments, Abhinandan Lodha said that the “vertical real estate market, particularly in metros, has generally provided single-digit compounded returns and hence investors and HNIs looking to exit now will benefit from the reduced tax rate of 12.5%.\"\n"
     ]
    }
   ],
   "source": [
    "df = pd.read_csv(\"processed_media_data_hindustantimes.csv\")\n",
    "print(df.iloc[2, 2])\n"
   ]
  },
  {
   "cell_type": "code",
   "execution_count": null,
   "metadata": {},
   "outputs": [],
   "source": [
    "df = pd.read_csv(\"processed_media_data_hindustantimes.csv\")\n",
    "\n",
    "\n",
    "# Remove lines containing \"Also Read: \"\n",
    "df = pd.read_csv(\"processed_media_data_hindustantimes.csv\")\n",
    "# Remove \"Also Read:\" from the text in the specified column\n",
    "cleaned_df = df.copy()\n",
    "cleaned_df.iloc[:, 2] = cleaned_df.iloc[:, 2].str.replace(\"Also Read:.*\", \"\", regex=True)\n",
    "print(cleaned_df.iloc[2, 2])"
   ]
  },
  {
   "cell_type": "code",
   "execution_count": null,
   "metadata": {},
   "outputs": [],
   "source": [
    "df = pd.read_csv(\"processed_media_data_financialexpress.csv\")\n",
    "\n",
    "cleaned_df = df.copy()\n",
    "cleaned_df.iloc[:, 2] = cleaned_df.iloc[:, 2].str.replace(\"Also Read.*\", \"\", regex=True)\n",
    "print(cleaned_df.iloc[2, 2])\n",
    "\n"
   ]
  },
  {
   "cell_type": "code",
   "execution_count": 61,
   "metadata": {},
   "outputs": [
    {
     "name": "stdout",
     "output_type": "stream",
     "text": [
      "The government is confident of launching the schemes in the Prime Minister’s package for employment and skilling announced in last week’s Budget within this financial year. That includes the internship program for one crore youth in 500 top companies, whose design details will be worked out in consultation with the industry, Finance Secretary T.V. Somanathan said.\n",
      "\n",
      "“We expect all of these schemes to start off within this financial year… We have tried to make sure the coverage of the employment-linked incentive schemes is, as far as possible, widespread, and not tried to make technological, sectoral choices. While Scheme A and C are for all industries, Scheme B is for manufacturing jobs,” Mr. Somanathan told The Hindu.\n",
      "\n",
      "High salary cut-off\n",
      "\n",
      "The top Finance Ministry official also said that the decision to incentivise hiring for first-timers with a salary limit of ₹1 lakh per month was aimed at keeping the schemes sector-neutral. “I agree ₹1 lakh is high, but it’s not so if you’re trying to cover the hiring of people with sophisticated skills, or knowledge of AI [Artificial Intelligence],” he said, adding that the schemes could spur new jobs in areas under threat from the advent of technologies like AI.\n",
      "\n",
      "\n",
      "\n",
      "Referring to the recent tendency of large tech firms to defer joining dates for fresh recruits, the Secretary said that it was precisely for this reason that the government did not want to exclude such people. “We don’t want to leave out the services or any sector from possible incentivisation if it will create jobs. We don’t want to focus only on employees who draw up to ₹25,000 a month. You can pay the employee even one lakh, but our fiscal outgo is limited to the ₹25,000 level, but even 24% of that works out to 12% of a ₹50,000 salary, which is still a substantial subsidy,” he emphasised\n",
      "\n",
      "“We don’t know where these salary figures stop. In some of these industries, even fresh hires get more than ₹50,000 to ₹60,000. But we have capped our outgo so the incentive is strongest for those earning ₹25,000,” the official noted.\n",
      "\n",
      "‘Nothing to lose’\n",
      "\n",
      "The new scheme to facilitate internships for youth in the age bracket of 21 to 24 years has no connection with the Pradhan Mantri Kaushal Vikas Yojana 4.0 announced in the Union Budget for 2023-24, and will be administered by the Ministry of Corporate Affairs, not the Ministry of Skill Development, Mr. Somanathan underlined.\n",
      "\n",
      "“While the Skill Development Ministry will be involved, this is very different,” he said, stressing that the scheme is voluntary and will not require firms to invest funds from their own pockets, but rather through their mandated corporate social responsibility (CSR) spends, combined with government resources.\n",
      "\n",
      "“This particular scheme has not been discussed with industry chambers, but they have repeatedly said they are willing to collaborate on skilling because they see it as a national problem. We think many companies will respond positively. They have nothing to lose and everything to gain,” he averred, adding that firms are not expected to hire these interns.\n",
      "\n",
      "Bridging the gap\n",
      "\n",
      "“We are also open to the company doing the skilling through companies in the backward or forward supply chains, if they can’t do it themselves. We will work out the details. It’s an innovative approach and there will be design challenges. But I think we have to do something innovative to bridge the gap [between skill sets of the young and industry needs] and break this barrier,” Mr. Somanathan underlined.\n",
      "\n",
      "The employment prospects of these interns will improve after their resumes, which previously said ‘no experience’, can add a year-long internship with a big company, Mr. Somanathan pointed out.\n",
      "\n",
      "“This is a space where frankly, while everybody agrees that something is to be done, very few people have concrete ideas on what can the government do to promote employment. We are relying on basic micro economics, that a subsidy triggers additional expenditure in the item which is subsidised,” he summed up.\n",
      "\n",
      "Edited excerpts:\n",
      "\n",
      "‘The trajectory of the road is downhill in terms of debt to GDP’\n"
     ]
    }
   ],
   "source": [
    "df = pd.read_csv(\"processed_media_data_thehindu.csv\")\n",
    "#print(df.iloc[3,2])\n",
    "cleaned_df = df.copy()\n",
    "cleaned_df.iloc[:, 2] = cleaned_df.iloc[:, 2].str.replace(\"Also read.*\", \"\", regex=True, case=False)\n",
    "print(cleaned_df.iloc[3,2])\n",
    "#print(df.iloc[:, 2].str.contains(\"Also read\", case=False).sum())\n",
    "\n",
    "   "
   ]
  },
  {
   "cell_type": "code",
   "execution_count": 13,
   "metadata": {},
   "outputs": [
    {
     "name": "stdout",
     "output_type": "stream",
     "text": [
      "                     date Language       Media        Date  \\\n",
      "1     2024-08-21 11:24:54       en  news18.com  2024-08-21   \n",
      "25    2024-07-31 15:47:04       en  news18.com  2024-07-30   \n",
      "62    2024-07-25 22:18:30       en  news18.com  2024-07-25   \n",
      "67     2024-07-26 0:19:42       en  news18.com  2024-07-25   \n",
      "71     2024-07-26 0:20:02       en  news18.com  2024-07-25   \n",
      "...                   ...      ...         ...         ...   \n",
      "1082   2024-01-25 0:08:58       en  news18.com  2024-01-22   \n",
      "1085   2024-01-25 0:09:01       en  news18.com  2024-01-21   \n",
      "1095   2024-01-25 0:09:09       en  news18.com  2024-01-18   \n",
      "1102   2024-01-25 0:09:14       en  news18.com  2024-01-16   \n",
      "1150   2023-11-28 1:04:08       en  news18.com  2023-11-25   \n",
      "\n",
      "                                                  Title  \\\n",
      "1     Income Tax Slabs Post Budget 2024: New Tax Reg...   \n",
      "25    Nirmala Sitharaman In Lok Sabha: No State Has ...   \n",
      "62    Taxes Like England, Services Like Somalia': AA...   \n",
      "67    All Doubts Cleared: Govt Issues FAQs On Capita...   \n",
      "71    Budget 2024: 10 Thriving Economies That Don't ...   \n",
      "...                                                 ...   \n",
      "1082  Budget 2024 Expectations Healthcare: 'GST Reli...   \n",
      "1085  Budget 2024 Wishlist: Gem Jewellery Sector Urg...   \n",
      "1095  Budget 2024 Expectations: Will EV Sector Get M...   \n",
      "1102  Budget 2024: Meet Nirmala Sitharaman's Key Tea...   \n",
      "1150  Budget 2024: Hike Tax On Tobacco Products, Urg...   \n",
      "\n",
      "                                                    Url Prelim-Rating  \\\n",
      "1     https://www.news18.com/business/tax/income-tax...          Left   \n",
      "25    https://www.news18.com/business/economy/financ...          Left   \n",
      "62    https://www.news18.com/politics/taxes-like-eng...          Left   \n",
      "67    https://www.news18.com/business/tax/budget-202...          Left   \n",
      "71    https://www.news18.com/business/budget-2024-de...          Left   \n",
      "...                                                 ...           ...   \n",
      "1082  https://www.news18.com/business/budget-2024-ex...          Left   \n",
      "1085  https://www.news18.com/business/budget-2024-wi...          Left   \n",
      "1095  https://www.news18.com/business/budget-2024-ex...          Left   \n",
      "1102  https://www.news18.com/business/budget-2024-me...          Left   \n",
      "1150  https://www.news18.com/business/budget-2024-hi...          Left   \n",
      "\n",
      "            Rating Oped/Non oped  \\\n",
      "1           Center           NaN   \n",
      "25    Center-Right           NaN   \n",
      "62            Left           NaN   \n",
      "67          Center           NaN   \n",
      "71             NaN           NaN   \n",
      "...            ...           ...   \n",
      "1082           NaN           NaN   \n",
      "1085           NaN           NaN   \n",
      "1095           NaN           NaN   \n",
      "1102           NaN           NaN   \n",
      "1150           NaN           NaN   \n",
      "\n",
      "                                                   Text  \n",
      "1     With the announcement of the full Union Budget...  \n",
      "25    Finance Minister Nirmala Sitharaman on Tuesday...  \n",
      "62                                                  NaN  \n",
      "67                                                  NaN  \n",
      "71                                                  NaN  \n",
      "...                                                 ...  \n",
      "1082                                                NaN  \n",
      "1085                                                NaN  \n",
      "1095                                                NaN  \n",
      "1102                                                NaN  \n",
      "1150                                                NaN  \n",
      "\n",
      "[114 rows x 10 columns]\n"
     ]
    }
   ],
   "source": [
    "import pandas as pd\n",
    "df = pd.read_csv(\"processed_media_data_news18.csv\")\n",
    "print(df[df.iloc[:,2] == \"news18.com\"])\n"
   ]
  },
  {
   "cell_type": "code",
   "execution_count": 15,
   "metadata": {},
   "outputs": [
    {
     "name": "stdout",
     "output_type": "stream",
     "text": [
      "Number of entries in the 3rd column containing 'Also Read' or 'Disclaimer' for news18: 26\n"
     ]
    }
   ],
   "source": [
    "outlets = [\"news18\"]\n",
    "for outlet in outlets:\n",
    "    df = pd.read_csv(f\"processed_data/processed_media_data_{outlet}.csv\")\n",
    "    count = df.iloc[:, 2].str.contains(\"Also Read\", case=False).sum()\n",
    "    print(f\"Number of entries in the 3rd column containing 'Also Read' or 'Disclaimer' for {outlet}: {count}\")\n"
   ]
  },
  {
   "cell_type": "code",
   "execution_count": 81,
   "metadata": {},
   "outputs": [
    {
     "name": "stdout",
     "output_type": "stream",
     "text": [
      "Number of entries in the 3rd column containing 'Also Read' or 'Disclaimer' for financialexpress: 53\n"
     ]
    }
   ],
   "source": [
    "df = pd.read_csv(f\"processed_data/processed_media_data_economictimes.csv\")\n",
    "count = df.iloc[:, 2].str.contains(\"Also Read\", case=False).sum()\n",
    "print(f\"Number of entries in the 3rd column containing 'Also Read' or 'Disclaimer' for financialexpress: {count}\")\n",
    "\n"
   ]
  },
  {
   "cell_type": "code",
   "execution_count": 8,
   "metadata": {},
   "outputs": [
    {
     "name": "stdout",
     "output_type": "stream",
     "text": [
      "Number of entries for each unique value in the 3rd column for {outlet}:\n",
      "Outlet\n",
      "indiatimes.com    432\n",
      "Name: count, dtype: int64\n",
      "Number of entries for each unique value in the 3rd column for {outlet}:\n",
      "Outlet\n",
      "financialexpress.com    230\n",
      "Name: count, dtype: int64\n",
      "Number of entries for each unique value in the 3rd column for {outlet}:\n",
      "Outlet\n",
      "hindustantimes.com    163\n",
      "Name: count, dtype: int64\n",
      "Number of entries for each unique value in the 3rd column for {outlet}:\n",
      "Outlet\n",
      "thehindu.com    74\n",
      "Name: count, dtype: int64\n",
      "Number of entries for each unique value in the 3rd column for {outlet}:\n",
      "Outlet\n",
      "ndtv.com    39\n",
      "Name: count, dtype: int64\n",
      "Total scraped = Outlet\n",
      "indiatimes.com   NaN\n",
      "Name: count, dtype: float64\n"
     ]
    }
   ],
   "source": [
    "import pandas as pd\n",
    "outlets = [\"economictimes\", \"financialexpress\",\"hindustantimes\",\"thehindu\",\"ndtv\"]\n",
    "x = 0\n",
    "for outlet in outlets:\n",
    "\n",
    "    df = pd.read_csv(f\"processed_data/processed_media_data_{outlet}.csv\")\n",
    "    unique_counts = df.iloc[:, 0].value_counts()\n",
    "    x+=unique_counts\n",
    "    print(\"Number of entries for each unique value in the 3rd column for {outlet}:\")\n",
    "    print(unique_counts)\n",
    "print(f\"Total scraped = {x}\")"
   ]
  },
  {
   "cell_type": "code",
   "execution_count": 5,
   "metadata": {},
   "outputs": [
    {
     "name": "stdout",
     "output_type": "stream",
     "text": [
      "thehindu\n"
     ]
    }
   ],
   "source": [
    "url = \"https://www.thehindu.com/business/markets/sensex-nifty-slump-over-2-as-middle-east-conflict-deepens/article68713225.ece\"\n",
    "\n",
    "title = url.split(\".\")[1]\n",
    "print(title)\n"
   ]
  },
  {
   "cell_type": "code",
   "execution_count": null,
   "metadata": {},
   "outputs": [],
   "source": []
  }
 ],
 "metadata": {
  "kernelspec": {
   "display_name": "aiscraper",
   "language": "python",
   "name": "python3"
  },
  "language_info": {
   "codemirror_mode": {
    "name": "ipython",
    "version": 3
   },
   "file_extension": ".py",
   "mimetype": "text/x-python",
   "name": "python",
   "nbconvert_exporter": "python",
   "pygments_lexer": "ipython3",
   "version": "3.12.7"
  }
 },
 "nbformat": 4,
 "nbformat_minor": 2
}
