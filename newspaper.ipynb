{
 "cells": [
  {
   "cell_type": "code",
   "execution_count": 15,
   "metadata": {},
   "outputs": [
    {
     "name": "stdout",
     "output_type": "stream",
     "text": [
      "Rahul Gandhi slams Union Budget 2024, but claims it is copy paste of Congress manifesto\n",
      "In continuation with his tradition of committing gaffes every once in a while, senior Congress leader Rahul Gandhi today took to X, formerly Twitter, to lash out at the Union Budget 2024 announced by Finance Minister Nirmala Sitharaman.\n",
      "\n",
      "Ridiculing the budget as the ‘Kursi Bachao’ budget, Gandhi, the leader of the opposition in Lok Sabha, asserted that the budget appeased cronies whom he referred to as ‘AA’ and appeased allies, claiming that hollow promises were made to them at the cost of other states.\n",
      "\n",
      "But then, in the same tweet, Gandhi added that the budget is a ‘copy and paste’ of the Congress manifesto and previous budgets.\n",
      "\n",
      "Source: X\n",
      "\n",
      "As is often the case with the Gandhi scion, one is left to wonder what he is trying to speak and convey.\n",
      "\n",
      "Let’s anyway still try to make sense of his tweet.\n",
      "\n",
      "Gandhi labelled the budget as the ‘Kursi Bachao’ budget but then in the same breath he said it was a copy-paste of the Congress Manifesto. Does it mean that Congress endorsed appeasing allies and making “hollow promises” to them as alleged by the Wayanad MP?\n",
      "\n",
      "It seems that Gandhi’s silence on the deaths in the Tamil Nadu hooch tragedy suggests that appeasing allies is at the centre of Congress’ politics, whether or not it is explicitly stated in their manifesto. So everyone in the Congress ecosystem goes hammer and tongs about violence in Manipur or a stray incident of a shop being ransacked because its owner tried to stoke communal feelings by uploading a provocative WhatsApp status but maintains radio silence on innocent people being killed in Tamil Nadu over consumption of spurious liquor.\n",
      "\n",
      "About 65 people have already died in the Tamil Nadu hooch tragedy. But it has not sparked any reaction from the Leader of the Opposition, who perhaps thinks only the central government should be held to account and not the DMK-led state government in Tamil Nadu, because MK Stalin is after all, an important alliance member of the INDI bloc. The same goes for West Bengal. Congress leaders and its ecosystem turned a blind eye to the Chopra incident in West Bengal, where a goon in broad daylight mercilessly thrashed a woman.\n",
      "\n",
      "Ironically, a complaint was lodged against BJP IT Cell head Amit Malviya for sharing the video online. Again, the Congress leaders and the ecosystem didn’t wail ‘democracy is in danger’ since the state under scanner was West Bengal, ruled by Mamata Banerjee-led Trinamool Congress.\n",
      "\n",
      "And if the Modi 3.0 indeed had made “hollow promises” to their allies, shouldn’t Congress and other states be happy that their progress and development won’t be compromised? But Congress supporters on X aren’t expected to have that intellectual depth. The hiring policy at most places expects candidates to have a reasonable IQ. But not at the Congress IT cell, which probably employs the criteria of hiring the dumbest lot available so that their crown prince can appear more intelligent and smart.\n",
      "\n",
      "Crucially, Gandhi also claimed that the government was working for the appeasement of cronies, referring to them as ‘AA’. Given his history of targeting Ambani and Adani with no evidence whatsoever to substantiate his claims, almost characterising profit-making as an evil vice, it is not hard to guess for intelligent folks to whom he was referring. Congress IT cell members would claim ‘he didn’t name anyone’ but that’s not their fault, their mental incapacity constrains them.\n",
      "\n",
      "The reference comes just days after several senior Congress leaders, including Former Chief Ministers Digvijaya Singh and Kamal Nath, prominent Congress leaders from Madhya Pradesh, Salman Khurshid, Former Union Minister, and Kapil Sibal, were among those who attended the grand Ambani celebrations that took place in Mumbai. SP chief Akhilesh Yadav and his family were at the wedding events to bless the couple. And so was RJD supremo Lalu Prasad Yadav, another key member of the INDI bloc, who is out on bail on ‘medical grounds’ but was merrily attending the Anant-Radhika wedding with his entire family.\n",
      "\n",
      "Were they all there to appease cronies? Who knows. Was it a part of the Congress manifesto? It is all too confusing and absurd, just Rahul Gandhi lambasting the budget and then saying it is a copy-paste of the Congress manifesto and previous budgets.\n",
      "\n",
      "In the end, one is left wondering:-\n"
     ]
    }
   ],
   "source": [
    "from newspaper import Article\n",
    "\n",
    "url = \"https://www.opindia.com/2024/07/rahul-gandhi-union-budget-2024-kursi-bachao-copy-paste-of-congress-manifesto/\"\n",
    "\n",
    "article = Article(url)\n",
    "article.download()\n",
    "article.parse()\n",
    "\n",
    "print(article.title)\n",
    "print(article.text)\n"
   ]
  }
 ],
 "metadata": {
  "kernelspec": {
   "display_name": "aiscraper",
   "language": "python",
   "name": "python3"
  },
  "language_info": {
   "codemirror_mode": {
    "name": "ipython",
    "version": 3
   },
   "file_extension": ".py",
   "mimetype": "text/x-python",
   "name": "python",
   "nbconvert_exporter": "python",
   "pygments_lexer": "ipython3",
   "version": "3.12.6"
  }
 },
 "nbformat": 4,
 "nbformat_minor": 2
}
